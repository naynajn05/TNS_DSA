{
 "cells": [
  {
   "cell_type": "code",
   "execution_count": null,
   "id": "11d85911-2ede-4a92-b31f-8aa838a41ade",
   "metadata": {},
   "outputs": [],
   "source": []
  }
 ],
 "metadata": {
  "kernelspec": {
   "display_name": "",
   "name": ""
  },
  "language_info": {
   "name": ""
  }
 },
 "nbformat": 4,
 "nbformat_minor": 5
}
